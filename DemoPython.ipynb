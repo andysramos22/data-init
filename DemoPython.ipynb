{
 "cells": [
  {
   "cell_type": "code",
   "execution_count": 1,
   "id": "2a48320a-2d2d-47ce-a8e6-104aedbe1e20",
   "metadata": {},
   "outputs": [
    {
     "data": {
      "text/plain": [
       "2"
      ]
     },
     "execution_count": 1,
     "metadata": {},
     "output_type": "execute_result"
    }
   ],
   "source": [
    "1+1"
   ]
  },
  {
   "cell_type": "code",
   "execution_count": 5,
   "id": "ef7796cc-ddd7-43a3-896d-ebb8d21ea071",
   "metadata": {},
   "outputs": [
    {
     "data": {
      "text/plain": [
       "144"
      ]
     },
     "execution_count": 5,
     "metadata": {},
     "output_type": "execute_result"
    }
   ],
   "source": [
    "12**2"
   ]
  },
  {
   "cell_type": "markdown",
   "id": "6ddddb05-b439-4f63-9b43-4c5469269494",
   "metadata": {},
   "source": [
    "exemplo de texto em *markdown*"
   ]
  },
  {
   "cell_type": "markdown",
   "id": "60cbcc41-fa1e-49d2-b8b7-d6131a138f0f",
   "metadata": {},
   "source": [
    "# Exemplo de título\n",
    "\n",
    "Célula com título em *markdown*"
   ]
  },
  {
   "cell_type": "code",
   "execution_count": null,
   "id": "b8376baa-764b-4f76-887b-48858dd690a1",
   "metadata": {},
   "outputs": [],
   "source": []
  }
 ],
 "metadata": {
  "kernelspec": {
   "display_name": "Python 3 (ipykernel)",
   "language": "python",
   "name": "python3"
  },
  "language_info": {
   "codemirror_mode": {
    "name": "ipython",
    "version": 3
   },
   "file_extension": ".py",
   "mimetype": "text/x-python",
   "name": "python",
   "nbconvert_exporter": "python",
   "pygments_lexer": "ipython3",
   "version": "3.12.4"
  }
 },
 "nbformat": 4,
 "nbformat_minor": 5
}
